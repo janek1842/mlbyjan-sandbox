{
 "cells": [
  {
   "metadata": {},
   "cell_type": "markdown",
   "source": [
    "## Decision trees\n",
    "\n",
    "Implementation of decision trees algorithm for medical data data set (flu prediction)\n",
    "\n"
   ],
   "id": "476e2710d53c9def"
  },
  {
   "metadata": {
    "ExecuteTime": {
     "end_time": "2025-10-24T15:11:17.651274Z",
     "start_time": "2025-10-24T15:11:16.765840Z"
    }
   },
   "cell_type": "code",
   "source": [
    "import os,sys\n",
    "\n",
    "from numpy.ma.core import concatenate\n",
    "\n",
    "from jantools import decision_tree\n",
    "\n",
    "module_path = os.path.abspath(os.path.join('..', 'jantools'))\n",
    "\n",
    "if module_path not in sys.path:\n",
    "    sys.path.append(module_path)\n",
    "import importlib\n",
    "import pandas as pd\n",
    "import numpy as np\n",
    "import json\n",
    "import decision_tree as dt"
   ],
   "id": "732f4ad3bade067b",
   "outputs": [],
   "execution_count": 1
  },
  {
   "metadata": {
    "ExecuteTime": {
     "end_time": "2025-10-24T16:34:53.515770Z",
     "start_time": "2025-10-24T16:34:53.509815Z"
    }
   },
   "cell_type": "code",
   "source": [
    "data = json.load(open(\"../data/decision_tree.json\"))\n",
    "\n",
    "X = []\n",
    "y = []\n",
    "\n",
    "for item in data:\n",
    "    X.append([item[\"fever\"], item[\"cough\"], item[\"fatigue\"]])\n",
    "    y.append(item[\"flu\"])\n",
    "\n",
    "X = np.array(X, dtype=np.float32)\n",
    "y = np.array(y, dtype=np.int32)\n",
    "\n",
    "X = X.reshape(X.shape[0], -1)\n",
    "y = np.array(y, dtype=np.int32).reshape(-1, 1)"
   ],
   "id": "98f41140496fba8f",
   "outputs": [],
   "execution_count": 72
  },
  {
   "metadata": {},
   "cell_type": "markdown",
   "source": "### janmltools",
   "id": "620420f5766b08e4"
  },
  {
   "metadata": {
    "ExecuteTime": {
     "end_time": "2025-10-24T16:34:54.895806Z",
     "start_time": "2025-10-24T16:34:54.871120Z"
    }
   },
   "cell_type": "code",
   "source": [
    "import importlib\n",
    "importlib.reload(dt)\n",
    "\n",
    "root_indices=[]\n",
    "for j in range(0,100):\n",
    "    root_indices.append(j)\n",
    "\n",
    "tree = dt.build_tree_recursive(X, y, root_indices, \"Root\", max_depth=3, current_depth=0)\n",
    "\n",
    "print(\" \")\n",
    "final_tree = {}\n",
    "final_tree[\"left\"] = list(dict.fromkeys((tree[1][0] + tree[2][0] + tree[3][0] + tree[4][0])))\n",
    "\n",
    "counter=0\n",
    "for i in (final_tree[\"left\"]):\n",
    "    if y[i] == 1:\n",
    "        counter += 1\n",
    "\n",
    "counter_real =0\n",
    "for i in (y):\n",
    "    if i == 1:\n",
    "        counter_real += 1\n",
    "\n",
    "print(\"Number of detected cases: \", counter, \" number of real cases: \", counter_real, \"comparison: \", counter/counter_real)\n"
   ],
   "id": "ba722bf9c3513fb7",
   "outputs": [
    {
     "name": "stdout",
     "output_type": "stream",
     "text": [
      " \n",
      "Number of detected cases:  46  number of real cases:  57 comparison:  0.8070175438596491\n"
     ]
    }
   ],
   "execution_count": 73
  },
  {
   "metadata": {},
   "cell_type": "markdown",
   "source": "### scikit-learn",
   "id": "b87dea4126373ddc"
  },
  {
   "metadata": {
    "ExecuteTime": {
     "end_time": "2025-10-24T16:38:16.660601Z",
     "start_time": "2025-10-24T16:38:16.649328Z"
    }
   },
   "cell_type": "code",
   "source": [
    "import numpy as np\n",
    "from sklearn.tree import DecisionTreeClassifier, plot_tree\n",
    "import matplotlib.pyplot as plt\n",
    "\n",
    "# Create the Decision Tree model\n",
    "clf = DecisionTreeClassifier(criterion='entropy', max_depth=3, random_state=42)\n",
    "\n",
    "data = json.load(open(\"../data/decision_tree.json\"))\n",
    "\n",
    "X = []\n",
    "y = []\n",
    "\n",
    "for item in data:\n",
    "    X.append([item[\"fever\"], item[\"cough\"], item[\"fatigue\"]])\n",
    "    y.append(item[\"flu\"])\n",
    "\n",
    "# Train the model on the entire dataset\n",
    "clf.fit(X, y)\n",
    "\n",
    "# Predict on the same dataset\n",
    "y_pred = clf.predict(X)\n",
    "\n",
    "# Optional: Check training accuracy\n",
    "counter =0\n",
    "for i in range(len(y_pred)):\n",
    "    if y_pred[i] == 1 and y[i]==1:\n",
    "        counter += 1\n",
    "\n",
    "counter_real =0\n",
    "for i in (y):\n",
    "    if i == 1:\n",
    "        counter_real += 1\n",
    "\n",
    "print(\"Number of detected cases: \", counter, \" number of real cases: \", counter_real, \"comparison: \", counter/counter_real)"
   ],
   "id": "752dfda12ba2368e",
   "outputs": [
    {
     "name": "stdout",
     "output_type": "stream",
     "text": [
      "Number of detected cases:  46  number of real cases:  57 comparison:  0.8070175438596491\n"
     ]
    }
   ],
   "execution_count": 76
  }
 ],
 "metadata": {
  "kernelspec": {
   "display_name": "Python 3",
   "language": "python",
   "name": "python3"
  },
  "language_info": {
   "codemirror_mode": {
    "name": "ipython",
    "version": 2
   },
   "file_extension": ".py",
   "mimetype": "text/x-python",
   "name": "python",
   "nbconvert_exporter": "python",
   "pygments_lexer": "ipython2",
   "version": "2.7.6"
  }
 },
 "nbformat": 4,
 "nbformat_minor": 5
}
