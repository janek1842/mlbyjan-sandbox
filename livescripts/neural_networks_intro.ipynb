{
 "cells": [
  {
   "metadata": {},
   "cell_type": "markdown",
   "source": [
    "## Neural networks intro\n",
    "\n",
    "Early implementations of neural networks using self-implemented methods and comparing them to Keras/Tensorflow equivalents for the X detection problem\n",
    "\n",
    "Testing points:\n",
    "\n",
    "- Tensorflow model implementation\n",
    "- Own NumPy Model implementation\n",
    "- Vectorized Model implementation "
   ],
   "id": "476e2710d53c9def"
  },
  {
   "metadata": {
    "ExecuteTime": {
     "end_time": "2025-10-16T13:24:29.615644Z",
     "start_time": "2025-10-16T13:24:29.607168Z"
    }
   },
   "cell_type": "code",
   "source": [
    "import os,sys\n",
    "module_path = os.path.abspath(os.path.join('..', 'jantools'))\n",
    "\n",
    "if module_path not in sys.path:\n",
    "    sys.path.append(module_path)\n",
    "import importlib\n",
    "import pandas as pd\n",
    "import numpy as np\n",
    "import json\n",
    "import neural_networks_intro as nni\n",
    "\n",
    "import numpy as np\n",
    "import tensorflow as tf\n",
    "from tensorflow.keras.models import Sequential\n",
    "from tensorflow.keras.layers import Dense\n",
    "import matplotlib.pyplot as plt\n",
    "from autils import *\n",
    "%matplotlib inline\n",
    "\n",
    "import logging\n",
    "logging.getLogger(\"tensorflow\").setLevel(logging.ERROR)\n",
    "tf.autograph.set_verbosity(0)"
   ],
   "id": "732f4ad3bade067b",
   "outputs": [],
   "execution_count": 4
  },
  {
   "metadata": {
    "ExecuteTime": {
     "end_time": "2025-10-16T13:24:31.090033Z",
     "start_time": "2025-10-16T13:24:31.071433Z"
    }
   },
   "cell_type": "code",
   "source": [
    "data = json.load(open(\"../data/neural_networks_intro.json\"))\n",
    "\n",
    "X = []\n",
    "y = []\n",
    "\n",
    "for item in data[\"images\"]:\n",
    "    X.append(item[\"pixels\"])\n",
    "    y.append(1 if item[\"label\"] else 0)\n",
    "\n",
    "X = np.array(X, dtype=np.float32)\n",
    "y = np.array(y, dtype=np.int32)\n",
    "\n",
    "X = X.reshape(X.shape[0], -1)\n",
    "y = np.array(y, dtype=np.int32).reshape(-1, 1)"
   ],
   "id": "98f41140496fba8f",
   "outputs": [],
   "execution_count": 5
  },
  {
   "metadata": {},
   "cell_type": "markdown",
   "source": "### Tensorflow",
   "id": "620420f5766b08e4"
  },
  {
   "metadata": {
    "ExecuteTime": {
     "end_time": "2025-10-16T13:24:33.093813Z",
     "start_time": "2025-10-16T13:24:33.087848Z"
    }
   },
   "cell_type": "code",
   "source": [
    "import numpy as np\n",
    "import tensorflow as tf\n",
    "from tensorflow.keras.models import Sequential\n",
    "from tensorflow.keras.layers import Dense\n",
    "import matplotlib.pyplot as plt\n",
    "from autils import *\n",
    "%matplotlib inline"
   ],
   "id": "e4e3d11eed718882",
   "outputs": [],
   "execution_count": 6
  },
  {
   "metadata": {
    "ExecuteTime": {
     "end_time": "2025-10-16T13:24:34.589405Z",
     "start_time": "2025-10-16T13:24:34.469364Z"
    }
   },
   "cell_type": "code",
   "source": [
    "model = Sequential(\n",
    "    [\n",
    "        tf.keras.Input(shape=(400,)),\n",
    "\n",
    "        Dense(25, activation=\"sigmoid\"),\n",
    "        Dense(15, activation=\"sigmoid\"),\n",
    "        Dense(1, activation=\"sigmoid\"),\n",
    "\n",
    "    ], name = \"my_model\"\n",
    ")\n",
    "\n",
    "model.summary()"
   ],
   "id": "649524c82000cbf5",
   "outputs": [
    {
     "data": {
      "text/plain": [
       "\u001B[1mModel: \"my_model\"\u001B[0m\n"
      ],
      "text/html": [
       "<pre style=\"white-space:pre;overflow-x:auto;line-height:normal;font-family:Menlo,'DejaVu Sans Mono',consolas,'Courier New',monospace\"><span style=\"font-weight: bold\">Model: \"my_model\"</span>\n",
       "</pre>\n"
      ]
     },
     "metadata": {},
     "output_type": "display_data",
     "jetTransient": {
      "display_id": null
     }
    },
    {
     "data": {
      "text/plain": [
       "┏━━━━━━━━━━━━━━━━━━━━━━━━━━━━━━━━━┳━━━━━━━━━━━━━━━━━━━━━━━━┳━━━━━━━━━━━━━━━┓\n",
       "┃\u001B[1m \u001B[0m\u001B[1mLayer (type)                   \u001B[0m\u001B[1m \u001B[0m┃\u001B[1m \u001B[0m\u001B[1mOutput Shape          \u001B[0m\u001B[1m \u001B[0m┃\u001B[1m \u001B[0m\u001B[1m      Param #\u001B[0m\u001B[1m \u001B[0m┃\n",
       "┡━━━━━━━━━━━━━━━━━━━━━━━━━━━━━━━━━╇━━━━━━━━━━━━━━━━━━━━━━━━╇━━━━━━━━━━━━━━━┩\n",
       "│ dense (\u001B[38;5;33mDense\u001B[0m)                   │ (\u001B[38;5;45mNone\u001B[0m, \u001B[38;5;34m25\u001B[0m)             │        \u001B[38;5;34m10,025\u001B[0m │\n",
       "├─────────────────────────────────┼────────────────────────┼───────────────┤\n",
       "│ dense_1 (\u001B[38;5;33mDense\u001B[0m)                 │ (\u001B[38;5;45mNone\u001B[0m, \u001B[38;5;34m15\u001B[0m)             │           \u001B[38;5;34m390\u001B[0m │\n",
       "├─────────────────────────────────┼────────────────────────┼───────────────┤\n",
       "│ dense_2 (\u001B[38;5;33mDense\u001B[0m)                 │ (\u001B[38;5;45mNone\u001B[0m, \u001B[38;5;34m1\u001B[0m)              │            \u001B[38;5;34m16\u001B[0m │\n",
       "└─────────────────────────────────┴────────────────────────┴───────────────┘\n"
      ],
      "text/html": [
       "<pre style=\"white-space:pre;overflow-x:auto;line-height:normal;font-family:Menlo,'DejaVu Sans Mono',consolas,'Courier New',monospace\">┏━━━━━━━━━━━━━━━━━━━━━━━━━━━━━━━━━┳━━━━━━━━━━━━━━━━━━━━━━━━┳━━━━━━━━━━━━━━━┓\n",
       "┃<span style=\"font-weight: bold\"> Layer (type)                    </span>┃<span style=\"font-weight: bold\"> Output Shape           </span>┃<span style=\"font-weight: bold\">       Param # </span>┃\n",
       "┡━━━━━━━━━━━━━━━━━━━━━━━━━━━━━━━━━╇━━━━━━━━━━━━━━━━━━━━━━━━╇━━━━━━━━━━━━━━━┩\n",
       "│ dense (<span style=\"color: #0087ff; text-decoration-color: #0087ff\">Dense</span>)                   │ (<span style=\"color: #00d7ff; text-decoration-color: #00d7ff\">None</span>, <span style=\"color: #00af00; text-decoration-color: #00af00\">25</span>)             │        <span style=\"color: #00af00; text-decoration-color: #00af00\">10,025</span> │\n",
       "├─────────────────────────────────┼────────────────────────┼───────────────┤\n",
       "│ dense_1 (<span style=\"color: #0087ff; text-decoration-color: #0087ff\">Dense</span>)                 │ (<span style=\"color: #00d7ff; text-decoration-color: #00d7ff\">None</span>, <span style=\"color: #00af00; text-decoration-color: #00af00\">15</span>)             │           <span style=\"color: #00af00; text-decoration-color: #00af00\">390</span> │\n",
       "├─────────────────────────────────┼────────────────────────┼───────────────┤\n",
       "│ dense_2 (<span style=\"color: #0087ff; text-decoration-color: #0087ff\">Dense</span>)                 │ (<span style=\"color: #00d7ff; text-decoration-color: #00d7ff\">None</span>, <span style=\"color: #00af00; text-decoration-color: #00af00\">1</span>)              │            <span style=\"color: #00af00; text-decoration-color: #00af00\">16</span> │\n",
       "└─────────────────────────────────┴────────────────────────┴───────────────┘\n",
       "</pre>\n"
      ]
     },
     "metadata": {},
     "output_type": "display_data",
     "jetTransient": {
      "display_id": null
     }
    },
    {
     "data": {
      "text/plain": [
       "\u001B[1m Total params: \u001B[0m\u001B[38;5;34m10,431\u001B[0m (40.75 KB)\n"
      ],
      "text/html": [
       "<pre style=\"white-space:pre;overflow-x:auto;line-height:normal;font-family:Menlo,'DejaVu Sans Mono',consolas,'Courier New',monospace\"><span style=\"font-weight: bold\"> Total params: </span><span style=\"color: #00af00; text-decoration-color: #00af00\">10,431</span> (40.75 KB)\n",
       "</pre>\n"
      ]
     },
     "metadata": {},
     "output_type": "display_data",
     "jetTransient": {
      "display_id": null
     }
    },
    {
     "data": {
      "text/plain": [
       "\u001B[1m Trainable params: \u001B[0m\u001B[38;5;34m10,431\u001B[0m (40.75 KB)\n"
      ],
      "text/html": [
       "<pre style=\"white-space:pre;overflow-x:auto;line-height:normal;font-family:Menlo,'DejaVu Sans Mono',consolas,'Courier New',monospace\"><span style=\"font-weight: bold\"> Trainable params: </span><span style=\"color: #00af00; text-decoration-color: #00af00\">10,431</span> (40.75 KB)\n",
       "</pre>\n"
      ]
     },
     "metadata": {},
     "output_type": "display_data",
     "jetTransient": {
      "display_id": null
     }
    },
    {
     "data": {
      "text/plain": [
       "\u001B[1m Non-trainable params: \u001B[0m\u001B[38;5;34m0\u001B[0m (0.00 B)\n"
      ],
      "text/html": [
       "<pre style=\"white-space:pre;overflow-x:auto;line-height:normal;font-family:Menlo,'DejaVu Sans Mono',consolas,'Courier New',monospace\"><span style=\"font-weight: bold\"> Non-trainable params: </span><span style=\"color: #00af00; text-decoration-color: #00af00\">0</span> (0.00 B)\n",
       "</pre>\n"
      ]
     },
     "metadata": {},
     "output_type": "display_data",
     "jetTransient": {
      "display_id": null
     }
    }
   ],
   "execution_count": 7
  },
  {
   "metadata": {},
   "cell_type": "markdown",
   "source": "#### Printing number of parameters for each layer",
   "id": "6fe161d181269bd5"
  },
  {
   "metadata": {
    "ExecuteTime": {
     "end_time": "2025-10-16T13:24:37.604798Z",
     "start_time": "2025-10-16T13:24:37.586170Z"
    }
   },
   "cell_type": "code",
   "source": [
    "L1_num_params = 400 * 25 + 25\n",
    "L2_num_params = 25 * 15 + 15\n",
    "L3_num_params = 15 * 1 + 1\n",
    "\n",
    "print(L1_num_params, L2_num_params, L3_num_params)\n",
    "\n",
    "print(\"\")\n",
    "print(\"(w,b)\")\n",
    "print(model.layers[0].get_weights()[0].shape,model.layers[0].get_weights()[1].shape)\n",
    "print(model.layers[1].get_weights()[0].shape,model.layers[1].get_weights()[1].shape)\n",
    "print(model.layers[2].get_weights()[0].shape,model.layers[2].get_weights()[1].shape)"
   ],
   "id": "211ee493440a9885",
   "outputs": [
    {
     "name": "stdout",
     "output_type": "stream",
     "text": [
      "10025 390 16\n",
      "\n",
      "(w,b)\n",
      "(400, 25) (25,)\n",
      "(25, 15) (15,)\n",
      "(15, 1) (1,)\n"
     ]
    }
   ],
   "execution_count": 8
  },
  {
   "metadata": {
    "ExecuteTime": {
     "end_time": "2025-10-16T13:24:42.443547Z",
     "start_time": "2025-10-16T13:24:39.763068Z"
    }
   },
   "cell_type": "code",
   "source": [
    "model.compile(\n",
    "    loss=tf.keras.losses.BinaryCrossentropy(),\n",
    "    optimizer=tf.keras.optimizers.Adam(0.001),\n",
    ")\n",
    "\n",
    "model.fit(\n",
    "    X,y,\n",
    "    epochs=20\n",
    ")"
   ],
   "id": "ab79d65c14726df8",
   "outputs": [
    {
     "name": "stdout",
     "output_type": "stream",
     "text": [
      "Epoch 1/20\n",
      "\u001B[1m4/4\u001B[0m \u001B[32m━━━━━━━━━━━━━━━━━━━━\u001B[0m\u001B[37m\u001B[0m \u001B[1m1s\u001B[0m 11ms/step - loss: 0.6807 \n",
      "Epoch 2/20\n",
      "\u001B[1m4/4\u001B[0m \u001B[32m━━━━━━━━━━━━━━━━━━━━\u001B[0m\u001B[37m\u001B[0m \u001B[1m0s\u001B[0m 13ms/step - loss: 0.6049\n",
      "Epoch 3/20\n",
      "\u001B[1m4/4\u001B[0m \u001B[32m━━━━━━━━━━━━━━━━━━━━\u001B[0m\u001B[37m\u001B[0m \u001B[1m0s\u001B[0m 11ms/step - loss: 0.5722\n",
      "Epoch 4/20\n",
      "\u001B[1m4/4\u001B[0m \u001B[32m━━━━━━━━━━━━━━━━━━━━\u001B[0m\u001B[37m\u001B[0m \u001B[1m0s\u001B[0m 14ms/step - loss: 0.5536\n",
      "Epoch 5/20\n",
      "\u001B[1m4/4\u001B[0m \u001B[32m━━━━━━━━━━━━━━━━━━━━\u001B[0m\u001B[37m\u001B[0m \u001B[1m0s\u001B[0m 13ms/step - loss: 0.5409\n",
      "Epoch 6/20\n",
      "\u001B[1m4/4\u001B[0m \u001B[32m━━━━━━━━━━━━━━━━━━━━\u001B[0m\u001B[37m\u001B[0m \u001B[1m0s\u001B[0m 12ms/step - loss: 0.5283\n",
      "Epoch 7/20\n",
      "\u001B[1m4/4\u001B[0m \u001B[32m━━━━━━━━━━━━━━━━━━━━\u001B[0m\u001B[37m\u001B[0m \u001B[1m0s\u001B[0m 14ms/step - loss: 0.5174\n",
      "Epoch 8/20\n",
      "\u001B[1m4/4\u001B[0m \u001B[32m━━━━━━━━━━━━━━━━━━━━\u001B[0m\u001B[37m\u001B[0m \u001B[1m0s\u001B[0m 10ms/step - loss: 0.5068\n",
      "Epoch 9/20\n",
      "\u001B[1m4/4\u001B[0m \u001B[32m━━━━━━━━━━━━━━━━━━━━\u001B[0m\u001B[37m\u001B[0m \u001B[1m0s\u001B[0m 11ms/step - loss: 0.4959\n",
      "Epoch 10/20\n",
      "\u001B[1m4/4\u001B[0m \u001B[32m━━━━━━━━━━━━━━━━━━━━\u001B[0m\u001B[37m\u001B[0m \u001B[1m0s\u001B[0m 11ms/step - loss: 0.4848\n",
      "Epoch 11/20\n",
      "\u001B[1m4/4\u001B[0m \u001B[32m━━━━━━━━━━━━━━━━━━━━\u001B[0m\u001B[37m\u001B[0m \u001B[1m0s\u001B[0m 11ms/step - loss: 0.4743\n",
      "Epoch 12/20\n",
      "\u001B[1m4/4\u001B[0m \u001B[32m━━━━━━━━━━━━━━━━━━━━\u001B[0m\u001B[37m\u001B[0m \u001B[1m0s\u001B[0m 13ms/step - loss: 0.4640\n",
      "Epoch 13/20\n",
      "\u001B[1m4/4\u001B[0m \u001B[32m━━━━━━━━━━━━━━━━━━━━\u001B[0m\u001B[37m\u001B[0m \u001B[1m0s\u001B[0m 15ms/step - loss: 0.4539\n",
      "Epoch 14/20\n",
      "\u001B[1m4/4\u001B[0m \u001B[32m━━━━━━━━━━━━━━━━━━━━\u001B[0m\u001B[37m\u001B[0m \u001B[1m0s\u001B[0m 12ms/step - loss: 0.4438\n",
      "Epoch 15/20\n",
      "\u001B[1m4/4\u001B[0m \u001B[32m━━━━━━━━━━━━━━━━━━━━\u001B[0m\u001B[37m\u001B[0m \u001B[1m0s\u001B[0m 13ms/step - loss: 0.4336\n",
      "Epoch 16/20\n",
      "\u001B[1m4/4\u001B[0m \u001B[32m━━━━━━━━━━━━━━━━━━━━\u001B[0m\u001B[37m\u001B[0m \u001B[1m0s\u001B[0m 15ms/step - loss: 0.4242\n",
      "Epoch 17/20\n",
      "\u001B[1m4/4\u001B[0m \u001B[32m━━━━━━━━━━━━━━━━━━━━\u001B[0m\u001B[37m\u001B[0m \u001B[1m0s\u001B[0m 13ms/step - loss: 0.4146\n",
      "Epoch 18/20\n",
      "\u001B[1m4/4\u001B[0m \u001B[32m━━━━━━━━━━━━━━━━━━━━\u001B[0m\u001B[37m\u001B[0m \u001B[1m0s\u001B[0m 12ms/step - loss: 0.4053\n",
      "Epoch 19/20\n",
      "\u001B[1m4/4\u001B[0m \u001B[32m━━━━━━━━━━━━━━━━━━━━\u001B[0m\u001B[37m\u001B[0m \u001B[1m0s\u001B[0m 10ms/step - loss: 0.3961\n",
      "Epoch 20/20\n",
      "\u001B[1m4/4\u001B[0m \u001B[32m━━━━━━━━━━━━━━━━━━━━\u001B[0m\u001B[37m\u001B[0m \u001B[1m0s\u001B[0m 11ms/step - loss: 0.3870\n"
     ]
    },
    {
     "data": {
      "text/plain": [
       "<keras.src.callbacks.history.History at 0x25437d812b0>"
      ]
     },
     "execution_count": 9,
     "metadata": {},
     "output_type": "execute_result"
    }
   ],
   "execution_count": 9
  },
  {
   "metadata": {
    "ExecuteTime": {
     "end_time": "2025-10-16T13:24:47.578933Z",
     "start_time": "2025-10-16T13:24:47.321679Z"
    }
   },
   "cell_type": "code",
   "source": [
    "prediction = model.predict(X[0].reshape(1,400))  # an X\n",
    "print(f\" predicting an X: {prediction}\")\n",
    "prediction = model.predict(X[1].reshape(1,400))  # a non-X\n",
    "print(f\" predicting a non X:  {prediction}\")"
   ],
   "id": "d81cdbf5494bbd0b",
   "outputs": [
    {
     "name": "stdout",
     "output_type": "stream",
     "text": [
      "\u001B[1m1/1\u001B[0m \u001B[32m━━━━━━━━━━━━━━━━━━━━\u001B[0m\u001B[37m\u001B[0m \u001B[1m0s\u001B[0m 83ms/step\n",
      " predicting an X: [[0.6859828]]\n",
      "\u001B[1m1/1\u001B[0m \u001B[32m━━━━━━━━━━━━━━━━━━━━\u001B[0m\u001B[37m\u001B[0m \u001B[1m0s\u001B[0m 55ms/step\n",
      " predicting a non X:  [[0.31907472]]\n"
     ]
    }
   ],
   "execution_count": 10
  },
  {
   "metadata": {},
   "cell_type": "markdown",
   "source": "#### janmltools computations",
   "id": "3886702c2b1361e0"
  },
  {
   "metadata": {
    "ExecuteTime": {
     "end_time": "2025-10-16T13:35:59.041488Z",
     "start_time": "2025-10-16T13:35:58.995328Z"
    }
   },
   "cell_type": "code",
   "source": [
    "import neural_networks_intro as nni\n",
    "import time\n",
    "importlib.reload(nni)\n",
    "# We are using the same weights as computed by the tensorflow\n",
    "\n",
    "[layer1, layer2, layer3] = model.layers\n",
    "W1_tmp,b1_tmp = layer1.get_weights()\n",
    "W2_tmp,b2_tmp = layer2.get_weights()\n",
    "W3_tmp,b3_tmp = layer3.get_weights()\n",
    "\n",
    "# prediction assesment and comparison between vectorized and non-vectorized versions\n",
    "\n",
    "# Non-vectorized approach\n",
    "start = time.perf_counter()\n",
    "for i in range(100):\n",
    "    prediction = nni.my_sequential(X[i], W1_tmp, b1_tmp, W2_tmp, b2_tmp, W3_tmp, b3_tmp )\n",
    "    if prediction >= 0.5:\n",
    "        yhat = 1\n",
    "    else:\n",
    "        yhat = 0\n",
    "    #print( \"yhat = \", yhat, \" label= \", y[i,0])\n",
    "end = time.perf_counter()\n",
    "print(f\"Elapsed time for non-vectorized: {end - start:.6f} seconds\")\n",
    "\n",
    "# Vectorized approach\n",
    "start = time.perf_counter()\n",
    "Prediction = nni.my_sequential_v(X, W1_tmp, b1_tmp, W2_tmp, b2_tmp, W3_tmp, b3_tmp )\n",
    "end = time.perf_counter()\n",
    "print(f\"Elapsed time for vectorized: {end - start:.6f} seconds\")\n"
   ],
   "id": "8437aa3ddd806f7a",
   "outputs": [
    {
     "name": "stdout",
     "output_type": "stream",
     "text": [
      "Elapsed time for non-vectorized: 0.028511 seconds\n",
      "Elapsed time for vectorized: 0.004748 seconds\n"
     ]
    }
   ],
   "execution_count": 21
  }
 ],
 "metadata": {
  "kernelspec": {
   "display_name": "Python 3",
   "language": "python",
   "name": "python3"
  },
  "language_info": {
   "codemirror_mode": {
    "name": "ipython",
    "version": 2
   },
   "file_extension": ".py",
   "mimetype": "text/x-python",
   "name": "python",
   "nbconvert_exporter": "python",
   "pygments_lexer": "ipython2",
   "version": "2.7.6"
  }
 },
 "nbformat": 4,
 "nbformat_minor": 5
}
